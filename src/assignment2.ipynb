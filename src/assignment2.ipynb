{
 "cells": [
  {
   "metadata": {},
   "cell_type": "markdown",
   "source": [
    "# Assignment 2\n",
    "\n",
    "Read all instructions carefully"
   ],
   "id": "de45e158da5a29fc"
  },
  {
   "metadata": {},
   "cell_type": "markdown",
   "source": [
    "## Work Requirements\n",
    "\n",
    "- You must work on Assignment 2 alone. You may not work with partners.\n",
    "- You may use online resources (Stack Exchange, Googling, Regex cheat sheets), including documentation and everything on Canvas. However, you may not use an LLM (ChatGPT, Copilot, etc)\n",
    "- Lightly document your code, especially any decisions you make along the way. You do not need extensive documentation. You do **NOT** need a separate README file. But a person should be able to read your submission top to bottom and understand what you're doing."
   ],
   "id": "642c11c5eaa4c893"
  },
  {
   "metadata": {},
   "cell_type": "markdown",
   "source": [
    "## Submission Instructions\n",
    "\n",
    "- This assignment is due on **Monday, October 6 at 6:59pm**.\n",
    "- The assignment must be submitted on Canvas as a single PDF file together with a requirements.txt file (as a text file, not PDF). The two files must be submitted as separate files, not as a zip file.\n",
    "- The PDF file you submit must be named with the following format \"lastname_firstname_assignment2.pdf\"\n",
    "- The requirements.txt file should only include the libraries you need to run your code in a Jupyter notebook, with their versions properly specified (e.g., use pip freeze with your venv activated)"
   ],
   "id": "5152449a44f304f0"
  },
  {
   "metadata": {},
   "cell_type": "markdown",
   "source": "## Recommendations and Resources",
   "id": "410fa629071bb9ec"
  },
  {
   "metadata": {},
   "cell_type": "markdown",
   "source": "**Recommendation:** Complete the assignment in a Jupyter notebook, and then convert the notebook to a PDF. If you have too much trouble converting to PDF, then convert it to HTML, open it as HTML and export that page to PDF (but this is a less preferred option).",
   "id": "862234ab42fa8c63"
  },
  {
   "metadata": {},
   "cell_type": "markdown",
   "source": "**Recommendation:** As always, start by examining the data you read in and understand it. What does each row represent in each dataframe?",
   "id": "763b5735daf39f3c"
  },
  {
   "metadata": {},
   "cell_type": "markdown",
   "source": [
    "**Helpful Documentation:**\n",
    "- Pandas expanding: https://pandas.pydata.org/pandas-docs/stable/reference/api/pandas.DataFrame.expanding.html#pandas.DataFrame.expanding\n",
    "- Python re library for Regex: https://docs.python.org/3/library/re.html\n",
    "- Pareto: https://numpy.org/doc/stable/reference/random/generated/numpy.random.pareto.html#numpy.random.pareto\n",
    "- Gaussian: https://numpy.org/doc/stable/reference/random/generated/numpy.random.normal.html#numpy-random-normal\n",
    "- Seaborn Boxplot: https://seaborn.pydata.org/generated/seaborn.boxplot.html\n",
    "- Seaborn Scatterplot: https://seaborn.pydata.org/generated/seaborn.scatterplot.html\n",
    "- Matplotlib scatterplot: https://matplotlib.org/stable/api/_as_gen/matplotlib.pyplot.scatter.html\n",
    "- Matplotlib boxplot: https://matplotlib.org/stable/api/_as_gen/matplotlib.pyplot.boxplot.html#"
   ],
   "id": "76eb9122cf9db379"
  },
  {
   "metadata": {},
   "cell_type": "markdown",
   "source": "# Part 0 - Imports and CoW",
   "id": "c46b8b867a9bb377"
  },
  {
   "metadata": {},
   "cell_type": "code",
   "outputs": [],
   "execution_count": null,
   "source": "# Enforce Copy-on-Write",
   "id": "ca5c032c464877dc"
  },
  {
   "metadata": {},
   "cell_type": "code",
   "outputs": [],
   "execution_count": null,
   "source": [
    "# Import libraries\n",
    "import numpy as np\n",
    "import pandas as pd\n",
    "import matplotlib.pyplot as plt\n",
    "import seaborn as sns\n",
    "from pathlib import Path\n",
    "\n",
    "import re\n",
    "pd.set_option(\"mode.copy_on_write\", True) # will be the default in pandas 3.0, best to enforce it\n"
   ],
   "id": "e099837d4dfd7d24"
  },
  {
   "metadata": {},
   "cell_type": "markdown",
   "source": [
    " ## Data Observation\n",
    " bus.csv: appears to be a file containing data about restraunt, this data is composed of location, name, id... etc\n",
    "\n",
    "\n",
    " ins.csv: appears to be a file conatining information about recent inspections of restaunts,\n",
    " one key component to this file is that it appears to have an ID that is used to link that inspection to a specific description\n",
    "\n",
    "ins2vio : appears to link the inspection to a specific description\n",
    "\n",
    "\n",
    "based on observation of the key the ins, the iid appears to be a composite key composed of the id from bus.csv and a date\n",
    "\n",
    "id connection\n",
    "\n",
    "bus.csv <-> ins.csv <-> ins2vio.csv <-> vio.csv\n",
    "\n"
   ],
   "id": "a9e479fc48e6fea9"
  },
  {
   "metadata": {},
   "cell_type": "markdown",
   "source": "# Part 1 - Regex, EDA, and Visualization",
   "id": "5307f844117e0841"
  },
  {
   "metadata": {},
   "cell_type": "markdown",
   "source": "Load the Food Safety datasets (bus.csv, ins2vio.csv, ins.csv, and vio.csv) into pandas dataframes and answer the following questions based on the dataframes.",
   "id": "f8f6e8371fef92d4"
  },
  {
   "metadata": {},
   "cell_type": "code",
   "outputs": [],
   "execution_count": null,
   "source": [
    "#Load the datasets into Pandas DataFrames\n",
    "\n",
    "cwd = Path().cwd()\n",
    "project_folder = cwd.parent\n",
    "\n",
    "bus_data_path = Path(\"data/bus.csv\")\n",
    "ins_data_path = Path(\"data/ins.csv\")\n",
    "ins2vio_data_path = Path(\"data/ins2vio.csv\")\n",
    "vio_data_path = Path(\"data/vio.csv\")\n",
    "\n",
    "bus_file = project_folder / bus_data_path\n",
    "ins_file = project_folder / ins_data_path\n",
    "ins2vio_file = project_folder / ins2vio_data_path\n",
    "vio_file = project_folder / vio_data_path\n"
   ],
   "id": "7dc0bc2980570c2d"
  },
  {
   "metadata": {},
   "cell_type": "code",
   "outputs": [],
   "execution_count": null,
   "source": [
    "bus = pd.read_csv(bus_file)\n",
    "ins = pd.read_csv(ins_file)\n",
    "ins2vio = pd.read_csv(ins2vio_file)\n",
    "vio = pd.read_csv(vio_file)"
   ],
   "id": "b15d62899369d104"
  },
  {
   "metadata": {},
   "cell_type": "code",
   "outputs": [],
   "execution_count": null,
   "source": [
    "#rename the id to make it easier to reference later\n",
    "bus = bus.rename(columns = {\"business id column\":\"bid\"})"
   ],
   "id": "344f1f8c4603df12"
  },
  {
   "metadata": {},
   "cell_type": "code",
   "outputs": [],
   "execution_count": null,
   "source": "bus.columns",
   "id": "65b05390aa655365"
  },
  {
   "metadata": {},
   "cell_type": "code",
   "outputs": [],
   "execution_count": null,
   "source": "bus.shape",
   "id": "5ca28f5f2e299da1"
  },
  {
   "metadata": {},
   "cell_type": "code",
   "outputs": [],
   "execution_count": null,
   "source": "ins.shape",
   "id": "c90767b58680de82"
  },
  {
   "metadata": {},
   "cell_type": "markdown",
   "source": "Use the business dataset (bus) to answer the first few questions below",
   "id": "26245a04ac5efc55"
  },
  {
   "metadata": {},
   "cell_type": "markdown",
   "source": [
    "1.1) Examining the entries in `bus`, is the `bid` unique for each record (i.e. each row of data)?\n",
    "\n",
    "Hint: use `value_counts()` or `unique()` to determine if the `bid` series has any duplicates."
   ],
   "id": "49e5df15c08009a3"
  },
  {
   "metadata": {},
   "cell_type": "code",
   "outputs": [],
   "execution_count": null,
   "source": [
    "bid_unique_counts = bus[\"bid\"].unique()\n",
    "bid_unique_counts\n",
    "#from here we can see that the number of ids is 6253, which is the same number of rows in the original shape"
   ],
   "id": "88e41d27cea47eba"
  },
  {
   "metadata": {},
   "cell_type": "code",
   "outputs": [],
   "execution_count": null,
   "source": [
    "#another way of checking uniques\n",
    "bus[\"bid\"].is_unique"
   ],
   "id": "35eb49f24218ba5e"
  },
  {
   "metadata": {},
   "cell_type": "markdown",
   "source": [
    "1.2) In the two cells below create the following **two numpy arrays**:\n",
    "\n",
    "1. Assign `top_names` to the top 5 most frequently used business names, from most frequent to least frequent.\n",
    "2. Assign `top_addresses` to the top 5 addressses where businesses are located, from most popular to least popular.\n",
    "\n",
    "Hint: you may find `value_counts()` helpful. "
   ],
   "id": "1e0dcd6e4956f791"
  },
  {
   "metadata": {},
   "cell_type": "code",
   "outputs": [],
   "execution_count": null,
   "source": [
    "top_names = bus[\"name\"].value_counts()[0:5]\n",
    "top_names"
   ],
   "id": "d4d1b31f5c29b2f0"
  },
  {
   "metadata": {},
   "cell_type": "code",
   "outputs": [],
   "execution_count": null,
   "source": [
    "top_addresses = bus[\"address\"].value_counts()[0:5]\n",
    "top_addresses"
   ],
   "id": "d162493a1b550462"
  },
  {
   "metadata": {},
   "cell_type": "markdown",
   "source": "1.3) Look at the businesses that DO NOT have the special MISSING ZIP code value. Some of the invalid postal codes are just the full 9 digit code rather than the first 5 digits. Create a new column named `postal5` in the original bus dataframe which contains only the first 5 digits of the postal_code column. Finally, for any of the likely MISSING postal5 ZIP code entries set the entry to None.",
   "id": "ad9bf024b074d3e4"
  },
  {
   "metadata": {},
   "cell_type": "code",
   "outputs": [],
   "execution_count": null,
   "source": [
    "#based on observation of the dataset I see that the special miss zip code value is represented as -9999\n",
    "\n",
    "clean_bus = bus\n",
    "\n",
    "clean_bus[\"postal5\"] = clean_bus[\"postal_code\"].str.slice(0,5)\n",
    "\n",
    "clean_bus[\"postal5\"] = np.where(clean_bus[\"postal5\"] == \"-9999\", None, clean_bus[\"postal5\"])\n",
    "\n"
   ],
   "id": "2f7920ab297f8003"
  },
  {
   "metadata": {},
   "cell_type": "markdown",
   "source": [
    "Now using the four Food Safety datasets bus.csv, ins2vio.csv, ins.csv, and vio.csv:\n",
    "\n",
    "1.5) Create a side-by-side boxplot that shows the distribution of the restaurant scores for each different risk category from 2017 to 2019. Use a figure size of at least 12 by 8.\n",
    "\n",
    "Hint: Consider using appropriate JOIN operations.\n",
    "\n",
    "\n",
    "id connection\n",
    "\n",
    "bus.csv <-> ins.csv <-> ins2vio.csv <-> vio.csv\n",
    "\n",
    "### Task Steps\n",
    "\n",
    "- I need to get the risk category,vid from the vio.csv\n",
    "- ins2vio is the bridge that will connect to vid in vio.csv to an iid in ins.csv\n",
    "- i need to get the score,date, and iid from the ins.csv\n",
    "although the problem says to use the bus.csv I dont see much use for it here for this problem\n",
    "\n",
    "\n",
    "ins:  is the dataset that represents the indivdual inspections\n",
    "vio:  represents the type of violations that were seen during inspection\n",
    "ins2vio : represent the bridge between the inspections and violations contains only iid and vid ;\n",
    "it shows the iid of the inspection and vid together\n",
    "\n",
    "so with this in mind it means that during an inspection there could have been multiple violations that\n",
    "were recorded, meaning that in ins2vio a iid can appear multiple times,\n",
    "\n",
    "ins contains the information for when a single inspection occured\n",
    "\n",
    "so with this in mind when I merge together ins with vio using ins2vio; I should see a larger dataframe created as an inspection could have multiple violations\n",
    "\n",
    "ins2vio has a shape of (40210, 2)\n",
    "ins has a shape of (24885,4)\n",
    "and them merged created a new dataframe of 37455, indicating that for some locations there were multiple\n",
    "violations\n",
    "during merge we only care about restraunts that had violations as these are the only \n",
    "ones that would have a link to the \"risk_category\" column inside of vio.csv"
   ],
   "id": "179a30d96997bdcb"
  },
  {
   "metadata": {
    "ExecuteTime": {
     "end_time": "2025-10-05T22:05:26.929212Z",
     "start_time": "2025-10-05T22:05:26.889643Z"
    }
   },
   "cell_type": "code",
   "source": [
    "#first filter our the relevent restraunts based on the dates specified\n",
    "\n",
    "ins_2017_2019 = ins[ins[\"date\"].str.contains(\"2017\") | ins[\"date\"].str.contains(\"2018\")| ins[\"date\"].str.contains(\"2019\")]\n",
    "\n",
    "#join this new dataframe with the vio.csv using ins2vio as a bridge\n",
    "#idea join ins with ins2vio using the iid\n",
    "\n",
    "merged_ins_vio_id = ins_2017_2019.merge(ins2vio, on='iid')\n"
   ],
   "id": "9ab9e9173066a934",
   "outputs": [],
   "execution_count": 74
  },
  {
   "metadata": {
    "ExecuteTime": {
     "end_time": "2025-10-05T22:05:28.013833Z",
     "start_time": "2025-10-05T22:05:28.010462Z"
    }
   },
   "cell_type": "code",
   "source": "ins2vio.shape",
   "id": "333a1d819e076d07",
   "outputs": [
    {
     "data": {
      "text/plain": [
       "(40210, 2)"
      ]
     },
     "execution_count": 75,
     "metadata": {},
     "output_type": "execute_result"
    }
   ],
   "execution_count": 75
  },
  {
   "metadata": {
    "ExecuteTime": {
     "end_time": "2025-10-05T22:05:29.394246Z",
     "start_time": "2025-10-05T22:05:29.391133Z"
    }
   },
   "cell_type": "code",
   "source": "merged_ins_vio_id.shape",
   "id": "4a395c7a66ba5020",
   "outputs": [
    {
     "data": {
      "text/plain": [
       "(37455, 5)"
      ]
     },
     "execution_count": 76,
     "metadata": {},
     "output_type": "execute_result"
    }
   ],
   "execution_count": 76
  },
  {
   "metadata": {
    "ExecuteTime": {
     "end_time": "2025-10-05T22:05:30.845428Z",
     "start_time": "2025-10-05T22:05:30.841966Z"
    }
   },
   "cell_type": "code",
   "source": "ins_2017_2019.shape\n",
   "id": "9bf1dc639624cbb8",
   "outputs": [
    {
     "data": {
      "text/plain": [
       "(24885, 4)"
      ]
     },
     "execution_count": 77,
     "metadata": {},
     "output_type": "execute_result"
    }
   ],
   "execution_count": 77
  },
  {
   "metadata": {
    "ExecuteTime": {
     "end_time": "2025-10-05T22:05:19.767010Z",
     "start_time": "2025-10-05T22:05:19.759747Z"
    }
   },
   "cell_type": "code",
   "source": [
    "#final merge to link ins(2017-2019) to the violations df\n",
    "merged_ins_vio = merged_ins_vio_id.merge(vio, on='vid')\n",
    "merged_ins_vio.shape\n"
   ],
   "id": "81f69c5481fcbe9a",
   "outputs": [
    {
     "data": {
      "text/plain": [
       "(37455, 7)"
      ]
     },
     "execution_count": 73,
     "metadata": {},
     "output_type": "execute_result"
    }
   ],
   "execution_count": 73
  },
  {
   "metadata": {
    "ExecuteTime": {
     "end_time": "2025-10-05T22:43:32.533260Z",
     "start_time": "2025-10-05T22:43:32.344639Z"
    }
   },
   "cell_type": "code",
   "source": [
    "sns.set_theme(rc={'figure.figsize': (12, 8)})\n",
    "sns.boxplot(merged_ins_vio, x = \"score\", y =\"risk_category\")"
   ],
   "id": "120236d1b78ef26f",
   "outputs": [
    {
     "data": {
      "text/plain": [
       "<Axes: xlabel='score', ylabel='risk_category'>"
      ]
     },
     "execution_count": 80,
     "metadata": {},
     "output_type": "execute_result"
    },
    {
     "data": {
      "text/plain": [
       "<Figure size 1200x800 with 1 Axes>"
      ],
      "image/png": "[encoded data removed]"
     },
     "metadata": {},
     "output_type": "display_data",
     "jetTransient": {
      "display_id": null
     }
    }
   ],
   "execution_count": 80
  },
  {
   "metadata": {},
   "cell_type": "markdown",
   "source": [
    "## Observation\n",
    "\n",
    "From viewing the plots we can see that there are three distinct risk categoris low, moderate, and high risk\n",
    "\n",
    "\n",
    "the general trend that we can see is that for the restraunts had the lowest scores were the ones that\n",
    " generally had highrisk violations, followed by the moderate, and then low\n",
    "\n",
    "this is evidenced by the fact that the median for score for the low_risk violations corresponded was higher, followed then by moderate, then finally highrisk\n",
    "\n",
    "we can also see that the general trend of the score tended to be more spread out for the lowwer quartile then the upper quartile for all the categories, maybe indicating that depending on the type of\n",
    "violation given there was different types of deductions given leading to more spread in these score, as opposed to higher score indicating they roughly lost the same number of points; one good think that could be analyzed is the type of violations, and scores and seeing what violations above the median were score were given the most\n"
   ],
   "id": "761119b50175608"
  },
  {
   "metadata": {},
   "cell_type": "markdown",
   "source": [
    "# Part II - Making a Synthetic Dataset\n",
    "\n",
    "In this part you're going to be create a synthetic dataset (dataframe) with 1000 observations (rows). You are going to use random number generators to create the data for you.\n",
    "\n",
    "You can use either the numpy or scipy library, whichever you find easier. Be sure to import any libraries you use at the top of the ntoebook (not down here)."
   ],
   "id": "d50091690c7f1d71"
  },
  {
   "metadata": {},
   "cell_type": "code",
   "outputs": [],
   "execution_count": null,
   "source": "n = 10000",
   "id": "ec7d1adffdf418f5"
  },
  {
   "metadata": {},
   "cell_type": "code",
   "outputs": [],
   "execution_count": null,
   "source": "#Optional: set random seed for reproducibility (how you do it depends on whether yo uuse numpy or scipy to generate the random numbers)",
   "id": "5b617e22c37fb3a0"
  },
  {
   "metadata": {},
   "cell_type": "markdown",
   "source": "2.1) Create a variable \"v1\" of 10,000 numbers where y = 3x+4 is the value of the element at index x, i.e., [4, 7, 10, ...] (Done for you)",
   "id": "571b587a0e572837"
  },
  {
   "metadata": {},
   "cell_type": "code",
   "outputs": [],
   "execution_count": null,
   "source": "v1 = 3 * np.arange(n) + 4",
   "id": "efed88a2facfc739"
  },
  {
   "metadata": {},
   "cell_type": "markdown",
   "source": [
    "2.2) Create a list of 10,000 samples from a normal (Gaussian) distribution with mean = 0 and variance = 10.\n",
    "\n",
    "HINT: Pay attention to whether the argument to your number generator is variance or standard deviation. (It doesn't have to be a python list, it can be an array or dataframe, or whatever dtype is most convenient for you.)"
   ],
   "id": "8c1c0b06cef25530"
  },
  {
   "metadata": {},
   "cell_type": "code",
   "outputs": [],
   "execution_count": null,
   "source": "# noise = np.random.normal... (can also use scipy)",
   "id": "5dcbccd008cf32f9"
  },
  {
   "metadata": {},
   "cell_type": "markdown",
   "source": "2.3) Create a variable v2 = v1 + Gaussian noise, using the noise your created above",
   "id": "92743f7b249f7cf0"
  },
  {
   "metadata": {},
   "cell_type": "code",
   "outputs": [],
   "execution_count": null,
   "source": "# v2 = v1 + noise",
   "id": "bdfd414090ddcf44"
  },
  {
   "metadata": {},
   "cell_type": "markdown",
   "source": "2.4) Create a variable v3 = exp(v1) that exponentiates the libear variable in v1, also sometimes denoted e^(v1), e.g., v3[0] = e^4",
   "id": "4f95dfbeb17e21d3"
  },
  {
   "metadata": {},
   "cell_type": "code",
   "outputs": [],
   "execution_count": null,
   "source": "#v3 = ",
   "id": "971b35365db6d67f"
  },
  {
   "metadata": {},
   "cell_type": "markdown",
   "source": "2.5) Create a list v4 = exp(v1) + Gaussian noise, using the same noise variable you created earlier",
   "id": "a0f968d813a8a709"
  },
  {
   "metadata": {},
   "cell_type": "code",
   "outputs": [],
   "execution_count": null,
   "source": "#v4 = ",
   "id": "96d99f634ab72210"
  },
  {
   "metadata": {},
   "cell_type": "markdown",
   "source": "2.6) Create a list v5 = exp(v1 + Gaussian noise), using the same noise variable you created earlier",
   "id": "2b2651f86d82c8e2"
  },
  {
   "metadata": {},
   "cell_type": "code",
   "outputs": [],
   "execution_count": null,
   "source": "# v5 = ",
   "id": "e9c83992eb21c566"
  },
  {
   "metadata": {},
   "cell_type": "markdown",
   "source": "2.7) Create a dataframe with 10,000 rows and columns = [v1, v2, v3, v4, v5, noise]",
   "id": "50441f190a09aa42"
  },
  {
   "metadata": {},
   "cell_type": "code",
   "outputs": [],
   "execution_count": null,
   "source": "# df_full = ...",
   "id": "7d945fed3f322f76"
  },
  {
   "metadata": {},
   "cell_type": "markdown",
   "source": "2.8) For each variable (v2, v3, v4, v5) create a separate scatter plot with v1 on the x-axis. Remark on your general observations.",
   "id": "80de448a109e0bc"
  },
  {
   "metadata": {},
   "cell_type": "code",
   "outputs": [],
   "execution_count": null,
   "source": "# Code for plots here, and remarks and observations here",
   "id": "4d9c09308a772c2b"
  },
  {
   "metadata": {},
   "cell_type": "markdown",
   "source": "2.9)  Create pair of boxplots with v4 and v5 next to each other. Remark on how v4 and v5 compare, based on the violin plots and the scatter plots. You may use other plots or tools if helpful.",
   "id": "45f5bb07b3fa5f7c"
  },
  {
   "metadata": {},
   "cell_type": "code",
   "outputs": [],
   "execution_count": null,
   "source": "",
   "id": "b86fc4301c0fd7f2"
  },
  {
   "metadata": {},
   "cell_type": "markdown",
   "source": "## Part III - Sampling and Convergence",
   "id": "79002395cbb2ba53"
  },
  {
   "metadata": {},
   "cell_type": "markdown",
   "source": "3.1) Create a variable \"pareto\" that is a list of 10,000 samples from a Pareto distribution with shape parameter = 1.2 (usually denoted a or alpha). Add this list \"pareto\" as a column to your dataframe from Part II",
   "id": "5ba65f5aab9510dc"
  },
  {
   "metadata": {},
   "cell_type": "code",
   "outputs": [],
   "execution_count": null,
   "source": "#pareto = np.random.pareto... (can also use scipy)",
   "id": "89f025650fee9926"
  },
  {
   "metadata": {},
   "cell_type": "markdown",
   "source": [
    "3.2) Add two more columns to your dataframe labeled \"running_avg_normal\" and \"running_avg_pareto\". In the \"running_avg_normal\" column put the running average of the (unsorted) values in the noise column. For example, if the values in the noise column are [0.1, 0.3, 0.5, ...] then the running average should be [0.1, 0.2, 0.3, ...]. Do the same for the Pareto column.\n",
    "\n",
    "HINT: Check out the .expanding() and .mean() methods for pandas Series objects"
   ],
   "id": "abdd0880e4d951c9"
  },
  {
   "metadata": {},
   "cell_type": "code",
   "outputs": [],
   "execution_count": null,
   "source": "",
   "id": "19e35942fde352ec"
  },
  {
   "metadata": {},
   "cell_type": "markdown",
   "source": "3.3) Create a lineplot for running_avg_normal and a lineplot for running_avg_Pareto. Remark on your observations.",
   "id": "8d2dbc92b7f23017"
  },
  {
   "metadata": {},
   "cell_type": "code",
   "outputs": [],
   "execution_count": null,
   "source": "",
   "id": "c6f5422318cafff3"
  }
 ],
 "metadata": {
  "kernelspec": {
   "display_name": "venv",
   "language": "python",
   "name": "python3"
  },
  "language_info": {
   "codemirror_mode": {
    "name": "ipython",
    "version": 3
   },
   "file_extension": ".py",
   "mimetype": "text/x-python",
   "name": "python",
   "nbconvert_exporter": "python",
   "pygments_lexer": "ipython3",
   "version": "3.12.4"
  }
 },
 "nbformat": 4,
 "nbformat_minor": 5
}
